{
  "cells": [
    {
      "cell_type": "markdown",
      "metadata": {
        "id": "3ZQ_d44HS2sH"
      },
      "source": []
    },
    {
      "cell_type": "markdown",
      "metadata": {
        "id": "MAadMiqUS4jU"
      },
      "source": [
        "\n",
        "Leer un número y presentar la tabla de multiplicar de ese número entre 1 y 10. Utilizar el siguiente formato de ejemplo:\n"
      ]
    },
    {
      "cell_type": "code",
      "execution_count": 14,
      "metadata": {
        "colab": {
          "base_uri": "https://localhost:8080/"
        },
        "id": "n0EILei8TbFU",
        "outputId": "4a4e53eb-6f2c-450b-dd3d-1818b755f39c"
      },
      "outputs": [
        {
          "name": "stdout",
          "output_type": "stream",
          "text": [
            "Ingresa un número: 1\n",
            "1 x 1 = 1\n",
            "1 x 2 = 2\n",
            "1 x 3 = 3\n",
            "1 x 4 = 4\n",
            "1 x 5 = 5\n",
            "1 x 6 = 6\n",
            "1 x 7 = 7\n",
            "1 x 8 = 8\n",
            "1 x 9 = 9\n",
            "1 x 10 = 10\n"
          ]
        }
      ],
      "source": [
        "numero = int(input(\"Ingresa un número: \"))\n",
        "\n",
        "for i in range(1, 11):\n",
        "    print(f\"{numero} x {i} = {numero * i}\")"
      ]
    },
    {
      "cell_type": "markdown",
      "metadata": {
        "id": "n89GewmSYiHw"
      },
      "source": [
        "En un partido de fútbol, se ofrece un descuento a los aficionados que depende del estrato y la edad. Si el estrato es 1 y su edad es menor a 18 el descuento será del 20% sobre el valor de la boleta. Si el estrato es 1 y el alumno tiene 18 o mas años, el descuento será del 15%. Si el estrato es 2 y la edad es menor a 18 años, el descuento será del 10% y si el estrato es 2 y la edad es 18 años o más, el descuento será del 5%. Determinar el total del dinero recaudado y descontado por las últimas N personas que ingresan al partido."
      ]
    },
    {
      "cell_type": "code",
      "execution_count": null,
      "metadata": {
        "colab": {
          "base_uri": "https://localhost:8080/"
        },
        "id": "4WY2Gdl3ZTB0",
        "outputId": "e93944d2-7be2-4552-8dde-8856338d1ba3"
      },
      "outputs": [
        {
          "name": "stdout",
          "output_type": "stream",
          "text": [
            "Ingrese el número de personas que entran al partido: 2\n",
            "Ingrese el valor de la boleta: 10\n",
            "\n",
            "Persona 1\n",
            "Ingrese el estrato (1 o 2): 2\n",
            "Ingrese la edad: 17\n",
            "Descuento aplicado: $1.00\n",
            "Dinero a pagar: $9.00\n",
            "\n",
            "Persona 2\n",
            "Ingrese el estrato (1 o 2): 2\n",
            "Ingrese la edad: 17\n",
            "Descuento aplicado: $1.00\n",
            "Dinero a pagar: $9.00\n",
            "\n",
            "Resumen final:\n",
            "Total recaudado: $18.00\n",
            "Total de descuentos: $2.00\n",
            "Tiene un descuento del 20%: $6.8\n"
          ]
        }
      ],
      "source": [
        "def calcular_descuento(estrato, edad, precio_boleta):\n",
        "    if estrato == 1:\n",
        "        if edad < 18:\n",
        "            return precio_boleta * 0.20\n",
        "        else:\n",
        "            return precio_boleta * 0.15\n",
        "    elif estrato == 2:\n",
        "        if edad < 18:\n",
        "            return precio_boleta * 0.10\n",
        "        else:\n",
        "            return precio_boleta * 0.05\n",
        "    return 0\n",
        "\n",
        "def calcular_total_recaudado_y_descuentos(n, precio_boleta):\n",
        "    total_recaudado = 0\n",
        "    total_descuentos = 0\n",
        "\n",
        "    for i in range(n):\n",
        "        print(f\"\\nPersona {i+1}\")\n",
        "        estrato = int(input(\"Ingrese el estrato (1 o 2): \"))\n",
        "        edad = int(input(\"Ingrese la edad: \"))\n",
        "\n",
        "        descuento = calcular_descuento(estrato, edad, precio_boleta)\n",
        "\n",
        "        dinero_a_pagar = precio_boleta - descuento\n",
        "\n",
        "        total_recaudado += dinero_a_pagar\n",
        "        total_descuentos += descuento\n",
        "\n",
        "        print(f\"Descuento aplicado: ${descuento:.2f}\")\n",
        "        print(f\"Dinero a pagar: ${dinero_a_pagar:.2f}\")\n",
        "\n",
        "    print(\"\\nResumen final:\")\n",
        "    print(f\"Total recaudado: ${total_recaudado:.2f}\")\n",
        "    print(f\"Total de descuentos: ${total_descuentos:.2f}\")\n",
        "\n",
        "n = int(input(\"Ingrese el número de personas que entran al partido:\"))\n",
        "precio_boleta = float(input(\"Ingrese el valor de la boleta:\"))\n",
        "\n",
        "calcular_total_recaudado_y_descuentos(n, precio_boleta)\n",
        "print(f\"Tiene un descuento del 20%: ${valorEntrada}\" )\n",
        "\n"
      ]
    },
    {
      "cell_type": "markdown",
      "metadata": {
        "id": "zc-VcbQoiPNo"
      },
      "source": [
        "Leer un password de ingreso a un programa y mostrar el mensaje de bienvenida si es correcto. Mientras no lo sea, debe mostrar el mensaje de Password incorrecto. El programa debe terminar automáticamente al quinto intento fallido."
      ]
    },
    {
      "cell_type": "code",
      "execution_count": 36,
      "metadata": {
        "colab": {
          "base_uri": "https://localhost:8080/"
        },
        "id": "oh5L6j4yiRlV",
        "outputId": "f89b25cb-2efb-43ed-c26a-343e148e7eb4"
      },
      "outputs": [
        {
          "name": "stdout",
          "output_type": "stream",
          "text": [
            "ingrese su contrasena: 1234\n",
            "Contrasena incorrecta\n",
            "ingrese su contrasena: jhosep1234\n",
            "bienvenido jhosep\n"
          ]
        }
      ],
      "source": [
        "contrasena_correcta = \"jhosep1234\"\n",
        "fallas = 0\n",
        "total_intentos = 5\n",
        "\n",
        "while fallas < total_intentos:\n",
        "  password = (input(\"ingrese su contrasena: \"))\n",
        "\n",
        "  if password == contrasena_correcta:\n",
        "        print(\"bienvenido jhosep\")\n",
        "        break\n",
        "  else:\n",
        "        fallas += 1\n",
        "        print(\"Contrasena incorrecta\")\n",
        "\n",
        "  if fallas == total_intentos:\n",
        "        print(\"Se a bloqueado la cuenta\")"
      ]
    },
    {
      "cell_type": "markdown",
      "metadata": {
        "id": "wpRy5A4mmwcF"
      },
      "source": [
        "En un sistema de automatización industrial, un motor puede estar encendido o apagado. Si la temperatura de la máquina supera los 80 grados, el motor debe apagarse automáticamente. Escribir un programa que controle el estado del motor y lo apague si la temperatura supera los 80 grados."
      ]
    },
    {
      "cell_type": "code",
      "execution_count": null,
      "metadata": {
        "id": "88pD04eTmtrN"
      },
      "outputs": [],
      "source": [
        "motor = input(\"Pulse 1 para encender el motro: \")\n",
        "\n",
        "if motor == \"0\":\n",
        "    print(\"Motor Apagado\")\n",
        "elif motor == \"1\":\n",
        "    motor_temp = int(input(\"Digite la temperatura del motor:\"))\n",
        "    print(\"MOTOR ENCENDIDO\")\n",
        "    if motor_temp >= 80:\n",
        "        print(\"Excele la temperatura\\n\" +\"Apagando motor\")"
      ]
    },
    {
      "cell_type": "markdown",
      "metadata": {
        "id": "cqU-EFKcmxj1"
      },
      "source": [
        "Una universidad ofrece un descuento a los estudiantes que depende del estrato y la edad. Si el estrato es 1 y su edad es menor a 18 el descuento será del 20% sobre el valor de la matrícula. Si el estrato es 1 y el alumno tiene 18 o mas años, el descuento será del 15%. Si el estrato es 2 y la edad es menor a 18 años, el descuento será del 10% y si el estrato es 2 y la edad es 18 años o mas, el descuento será del 5%."
      ]
    },
    {
      "cell_type": "code",
      "execution_count": 38,
      "metadata": {
        "colab": {
          "base_uri": "https://localhost:8080/"
        },
        "id": "5zXKJ-TSmzhF",
        "outputId": "d30ebfce-61d5-4b7e-9a06-f24685951fce"
      },
      "outputs": [
        {
          "name": "stdout",
          "output_type": "stream",
          "text": [
            "Ingrese su estrato: 2\n",
            "Ingrese su edad: 18\n",
            "Ingrese el valor de la matrícula: 100000\n",
            "Tiene un descuento del 5%, ustde debe pagar: $95000.0\n"
          ]
        }
      ],
      "source": [
        "estrato = int(input(\"Ingrese su estrato: \"))\n",
        "edad = int(input(\"Ingrese su edad: \"))\n",
        "precio = int(input(\"Ingrese el valor de la matrícula: \"))\n",
        "\n",
        "if (estrato == 1) and (edad < 18):\n",
        "  descuento = precio * 0.20\n",
        "  precio = precio - descuento\n",
        "  print(f\"Tiene un descuento del 20%, ustde debe pagar: ${precio}\" )\n",
        "elif (estrato == 1) and (edad >= 18):\n",
        "  descuento = precio * 0.15\n",
        "  precio = precio - descuento\n",
        "  print(f\"Tiene un descuento del 15%, ustde debe pagar: ${precio}\")\n",
        "elif (estrato == 2) and (edad < 18):\n",
        "  descuento = precio * 0.10\n",
        "  precio = precio - descuento\n",
        "  print(f\"Tiene un descuento del 10%, ustde debe pagar: ${precio}\")\n",
        "elif (estrato == 2) and (edad >= 18):\n",
        "  descuento = precio * 0.05\n",
        "  precio = precio - descuento\n",
        "  print(f\"Tiene un descuento del 5%, ustde debe pagar: ${precio}\")\n",
        "else:\n",
        "  print(\"No tiene descuento\")"
      ]
    },
    {
      "cell_type": "markdown",
      "metadata": {
        "id": "YNjMBUm9nia2"
      },
      "source": [
        "En un sistema de control de calidad, se deben inspeccionar las piezas de un producto para determinar si cumplen con los estándares de calidad. Si la pieza es defectuosa, se debe marcar como rechazada y enviar una alerta al operador. Si la pieza cumple con los estándares de calidad, se debe marcar como aprobada y continuar con la producción."
      ]
    },
    {
      "cell_type": "code",
      "execution_count": 41,
      "metadata": {
        "colab": {
          "base_uri": "https://localhost:8080/"
        },
        "id": "1EJzWjernl52",
        "outputId": "f98ddbea-8302-4f61-c62d-2cadd5381754"
      },
      "outputs": [
        {
          "name": "stdout",
          "output_type": "stream",
          "text": [
            "ingrese la cantidad de piezas que desea verificar: 0101\n",
            "ingrese la cantidad binaria: 1010\n",
            "la pieza a sido rechazada\n"
          ]
        }
      ],
      "source": [
        "cantidad = int(input(\"ingrese la cantidad de piezas que desea verificar: \"))\n",
        "codigoBinario = (input(\"ingrese la cantidad binaria: \"))\n",
        "valor = \"1\" * cantidad\n",
        "\n",
        "if cantidad > 0 and codigoBinario == valor:\n",
        "  print(\"la pieza es aprobada y podra continuar su produccion\")\n",
        "elif cantidad > 0 and codigoBinario != valor:\n",
        "  print(\"la pieza a sido rechazada\")"
      ]
    }
  ],
  "metadata": {
    "colab": {
      "provenance": []
    },
    "kernelspec": {
      "display_name": "Python 3",
      "name": "python3"
    },
    "language_info": {
      "name": "python"
    }
  },
  "nbformat": 4,
  "nbformat_minor": 0
}
